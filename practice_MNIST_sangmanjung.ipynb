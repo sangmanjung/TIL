{
  "nbformat": 4,
  "nbformat_minor": 0,
  "metadata": {
    "colab": {
      "name": "practice_MNIST_sangmanjung.ipynb",
      "provenance": []
    },
    "kernelspec": {
      "name": "python3",
      "display_name": "Python 3"
    },
    "language_info": {
      "name": "python"
    }
  },
  "cells": [
    {
      "cell_type": "markdown",
      "metadata": {
        "id": "oraPd0IX06Vx"
      },
      "source": [
        "*   분류 문제에 대한 **전반적인 이해도 향상**이 목적\n",
        "*   MNIST dataset을 통해 **model output을 다듬으며 필요 지식들을 학습 / 복습**\n",
        "*   tensorflow tutorial 예제를 중심으로 살을 붙여가면서 **코드를 점차적으로 고도화**"
      ]
    },
    {
      "cell_type": "markdown",
      "metadata": {
        "id": "UPdkXgijm9ni"
      },
      "source": [
        "### **01. Import the packages**"
      ]
    },
    {
      "cell_type": "code",
      "metadata": {
        "id": "GIzQFMoemtZs"
      },
      "source": [
        "## install tensorflow packages\n",
        "# !pip install tensorflow-gpu==2.0.0-rc1\n",
        "\n",
        "## import the libraries\n",
        "import numpy as np # for matrix algebra\n",
        "import tensorflow as tf # for deep learning framework\n",
        "import matplotlib.pyplot as plt # for visualization\n",
        "from tensorflow.keras import backend as K # to check the output"
      ],
      "execution_count": 1,
      "outputs": []
    },
    {
      "cell_type": "markdown",
      "metadata": {
        "id": "hiK0k-nKnZB1"
      },
      "source": [
        "###**02. Load the dataset (MNIST)**"
      ]
    },
    {
      "cell_type": "code",
      "metadata": {
        "colab": {
          "base_uri": "https://localhost:8080/"
        },
        "id": "2spnQwwvnTGF",
        "outputId": "463d9253-46a6-4463-f79b-e71bb4f29e70"
      },
      "source": [
        "## load the dataset\n",
        "mnist = tf.keras.datasets.mnist # carry the MNIST data package from tensorflow\n",
        "(x_train, y_train), (x_test, y_test) = mnist.load_data() # load the dataset that has the matrix form\n",
        "\n",
        "## convert the continuous value for the performance of NN\n",
        "print('** original :\\n\\n',x_train[0][6]) # original value of the matrix (RGB)\n",
        "x_train, x_test = x_train / 255.0, x_test / 255.0 # convert float type elements\n",
        "print('\\n\\n** converted as \"float\" :\\n\\n',x_train[0][6]) # float type\n",
        "\n",
        "## each data size\n",
        "# We know that the image matrix size is 28X28, and the number of inputs are 60000 in train, 10000 in test.\n",
        "print('\\n\\n matrix size : \\n')\n",
        "print('x_train: ',x_train.shape)\n",
        "print('y_train: ',y_train.shape)\n",
        "print('x_test: ',x_test.shape)\n",
        "print('y_test: ',y_test.shape)"
      ],
      "execution_count": 2,
      "outputs": [
        {
          "output_type": "stream",
          "text": [
            "** original :\n",
            "\n",
            " [  0   0   0   0   0   0   0   0  30  36  94 154 170 253 253 253 253 253\n",
            " 225 172 253 242 195  64   0   0   0   0]\n",
            "\n",
            "\n",
            "** converted as \"float\" :\n",
            "\n",
            " [0.         0.         0.         0.         0.         0.\n",
            " 0.         0.         0.11764706 0.14117647 0.36862745 0.60392157\n",
            " 0.66666667 0.99215686 0.99215686 0.99215686 0.99215686 0.99215686\n",
            " 0.88235294 0.6745098  0.99215686 0.94901961 0.76470588 0.25098039\n",
            " 0.         0.         0.         0.        ]\n",
            "\n",
            "\n",
            " matrix size : \n",
            "\n",
            "x_train:  (60000, 28, 28)\n",
            "y_train:  (60000,)\n",
            "x_test:  (10000, 28, 28)\n",
            "y_test:  (10000,)\n"
          ],
          "name": "stdout"
        }
      ]
    },
    {
      "cell_type": "markdown",
      "metadata": {
        "id": "jPDZl-0bnjwT"
      },
      "source": [
        "### **03. Check the 'real' digit images**"
      ]
    },
    {
      "cell_type": "code",
      "metadata": {
        "colab": {
          "base_uri": "https://localhost:8080/",
          "height": 184
        },
        "id": "kh82qOs9njJU",
        "outputId": "dcfb1e3a-8a85-40fd-bf12-53aac49dc8b8"
      },
      "source": [
        "# see some images (28x28 size input)\n",
        "plt.figure(figsize = (25,15))\n",
        "for i in range(8):\n",
        "  plt.subplot(int('18'+str(i+1)))\n",
        "  plt.imshow(x_train[np.random.randint(10000),:,:],cmap = 'gray')\n",
        "plt.show()"
      ],
      "execution_count": 3,
      "outputs": [
        {
          "output_type": "display_data",
          "data": {
            "image/png": "[encoded data removed]",
            "text/plain": [
              "<Figure size 1800x1080 with 8 Axes>"
            ]
          },
          "metadata": {
            "tags": [],
            "needs_background": "light"
          }
        }
      ]
    },
    {
      "cell_type": "markdown",
      "metadata": {
        "id": "ot8Wy_DjnXhQ"
      },
      "source": [
        "### **04. Model construction**"
      ]
    },
    {
      "cell_type": "code",
      "metadata": {
        "colab": {
          "base_uri": "https://localhost:8080/"
        },
        "id": "tcE3UJ8Xox9y",
        "outputId": "99fcac74-15ad-4d92-a259-901daf5f925c"
      },
      "source": [
        "### REVIEW\n",
        "\n",
        "## Flatten()\n",
        "# Flattening a tensor means to remove all of the dimensions except for one.\n",
        "# A Flatten layer in Keras reshapes the tensor to have a shape\n",
        "# that is equal to the number of elements contained in the tensor.\n",
        "# (example) original dim. = (None,4,4,512) >>> flattening = (None,8192 = 4*4*512)\n",
        "\n",
        "## Dense()\n",
        "# Fully Connected Neural Network.\n",
        "# Structure: output = activation(dot(input, kernel) + bias), kernel == weights\n",
        "\n",
        "## Dropout()\n",
        "# The Dropout layer randomly sets input units to 0 with a frequency of rate at each step\n",
        "# during training time, which helps prevent overfitting.\n",
        "\n",
        "## softmax function\n",
        "# The softmax transforms them into values between 0 and 1, so that they can be interpreted as probabilities.\n",
        "# If one of the inputs is small or negative, the softmax turns it into a small probability,\n",
        "# and if an input is large, then it turns it into a large probability, but it will always remain between 0 and 1.\n",
        "\n",
        "## sparse_categorical_crossentropy\n",
        "# for multi-classification problem (given integer label)\n",
        "\n",
        "def myModel(end_act,opt,lossfn):\n",
        "  ## model construction\n",
        "  model = tf.keras.models.Sequential([\n",
        "    tf.keras.layers.Flatten(input_shape = (28, 28)), # image matrix size\n",
        "    tf.keras.layers.Dense(128, activation = 'relu'), # expand the size to 128 units\n",
        "    tf.keras.layers.Dropout(0.2), # consider the overfitting\n",
        "    tf.keras.layers.Dense(10, activation = end_act) # output layer (correspond to 0~9)\n",
        "  ])\n",
        "\n",
        "  ## model compile (for model training)\n",
        "  model.compile(optimizer = opt,loss = lossfn,metrics = ['accuracy'])\n",
        "  return model\n",
        "\n",
        "model = myModel('softmax','adam','sparse_categorical_crossentropy')\n",
        "model.summary()"
      ],
      "execution_count": 4,
      "outputs": [
        {
          "output_type": "stream",
          "text": [
            "Model: \"sequential\"\n",
            "_________________________________________________________________\n",
            "Layer (type)                 Output Shape              Param #   \n",
            "=================================================================\n",
            "flatten (Flatten)            (None, 784)               0         \n",
            "_________________________________________________________________\n",
            "dense (Dense)                (None, 128)               100480    \n",
            "_________________________________________________________________\n",
            "dropout (Dropout)            (None, 128)               0         \n",
            "_________________________________________________________________\n",
            "dense_1 (Dense)              (None, 10)                1290      \n",
            "=================================================================\n",
            "Total params: 101,770\n",
            "Trainable params: 101,770\n",
            "Non-trainable params: 0\n",
            "_________________________________________________________________\n"
          ],
          "name": "stdout"
        }
      ]
    },
    {
      "cell_type": "markdown",
      "metadata": {
        "id": "txNq-81opCQZ"
      },
      "source": [
        "### **05. Model evaluation**"
      ]
    },
    {
      "cell_type": "code",
      "metadata": {
        "colab": {
          "base_uri": "https://localhost:8080/"
        },
        "id": "eEErJwD2pHrT",
        "outputId": "5371c428-7c1c-453b-b37d-c493bfc671e3"
      },
      "source": [
        "model.fit(x_train, y_train, epochs = 5) # model training\n",
        "model.evaluate(x_test,  y_test, verbose = 2) # model evaluation"
      ],
      "execution_count": 5,
      "outputs": [
        {
          "output_type": "stream",
          "text": [
            "Epoch 1/5\n",
            "1875/1875 [==============================] - 5s 2ms/step - loss: 0.4879 - accuracy: 0.8573\n",
            "Epoch 2/5\n",
            "1875/1875 [==============================] - 4s 2ms/step - loss: 0.1586 - accuracy: 0.9519\n",
            "Epoch 3/5\n",
            "1875/1875 [==============================] - 4s 2ms/step - loss: 0.1111 - accuracy: 0.9661\n",
            "Epoch 4/5\n",
            "1875/1875 [==============================] - 4s 2ms/step - loss: 0.0886 - accuracy: 0.9721\n",
            "Epoch 5/5\n",
            "1875/1875 [==============================] - 4s 2ms/step - loss: 0.0769 - accuracy: 0.9760\n",
            "313/313 - 0s - loss: 0.0806 - accuracy: 0.9761\n"
          ],
          "name": "stdout"
        },
        {
          "output_type": "execute_result",
          "data": {
            "text/plain": [
              "[0.08056194335222244, 0.9761000275611877]"
            ]
          },
          "metadata": {
            "tags": []
          },
          "execution_count": 5
        }
      ]
    },
    {
      "cell_type": "markdown",
      "metadata": {
        "id": "AVKEoj1FpQVC"
      },
      "source": [
        "### **06. Check the model output**"
      ]
    },
    {
      "cell_type": "code",
      "metadata": {
        "colab": {
          "base_uri": "https://localhost:8080/"
        },
        "id": "9h_L0bVFpO5T",
        "outputId": "ffc67aa6-8206-4aa8-de87-f2f697c3af2c"
      },
      "source": [
        "## create a Keras function to get i-th layer\n",
        "get_layer_output = K.function(inputs = model.layers[0].input, outputs = model.layers[3].output) # choose the specific layer\n",
        "\n",
        "## extract output\n",
        "layer_output = get_layer_output(x_test)\n",
        "print('** model output: \\n\\n',layer_output) # the collection of probability vectors\n",
        "print('\\n\\n** output size check: \\n\\n',layer_output.shape) # 10000 is the observations (measurements), 10 is the dimension of the output vector"
      ],
      "execution_count": 6,
      "outputs": [
        {
          "output_type": "stream",
          "text": [
            "** model output: \n",
            "\n",
            " [[4.8983434e-08 1.8254257e-09 4.3661607e-06 ... 9.9983180e-01\n",
            "  3.7812879e-07 1.6826782e-05]\n",
            " [8.0833278e-09 6.0826994e-07 9.9999881e-01 ... 2.2375919e-14\n",
            "  1.1999960e-08 9.9789361e-12]\n",
            " [7.4677018e-08 9.9909234e-01 2.4647039e-04 ... 4.0947253e-04\n",
            "  2.2915733e-04 6.3661338e-07]\n",
            " ...\n",
            " [3.7179648e-11 2.5200050e-10 4.3004639e-10 ... 4.3008499e-06\n",
            "  9.4647448e-06 9.5621166e-05]\n",
            " [3.8028880e-08 3.7018413e-09 7.2555401e-10 ... 4.7387953e-08\n",
            "  2.1951278e-06 1.3462415e-11]\n",
            " [1.7692692e-08 6.8119838e-10 5.7240795e-06 ... 4.3372467e-12\n",
            "  8.3463805e-09 1.5850485e-09]]\n",
            "\n",
            "\n",
            "** output size check: \n",
            "\n",
            " (10000, 10)\n"
          ],
          "name": "stdout"
        }
      ]
    },
    {
      "cell_type": "markdown",
      "metadata": {
        "id": "m15c7TvhpdBe"
      },
      "source": [
        "### **Trim the model output as 'digit' form**"
      ]
    },
    {
      "cell_type": "code",
      "metadata": {
        "id": "2on-ZfhCpdK-"
      },
      "source": [
        "## Find the index of the maximum value in the model output \n",
        "def get_digit(layer_output):\n",
        "  pred = [] # list for containing 'digit'\n",
        "\n",
        "  for i in range(len(layer_output)):\n",
        "    max_val = 0 # the maximum of 10 probabilities\n",
        "    ind = [] # the index of the maximum\n",
        "    for j in range(len(layer_output[i])):\n",
        "\n",
        "      if max_val < layer_output[i,j]: # criterion\n",
        "        max_val = layer_output[i,j] # update\n",
        "        ind.append(j) # save the index of each max_val\n",
        "\n",
        "    pred.append(ind[-1]) # save the final max_val\n",
        "  pred = np.array(pred) # convert the data type\n",
        "  return pred"
      ],
      "execution_count": 7,
      "outputs": []
    },
    {
      "cell_type": "code",
      "metadata": {
        "colab": {
          "base_uri": "https://localhost:8080/"
        },
        "id": "GtHwepIvqSTW",
        "outputId": "10b8360a-57f5-42ea-d786-5f19c74d73aa"
      },
      "source": [
        "print('** label: \\n',y_test)\n",
        "print('\\n** prediction: \\n',get_digit(layer_output))"
      ],
      "execution_count": 8,
      "outputs": [
        {
          "output_type": "stream",
          "text": [
            "** label: \n",
            " [7 2 1 ... 4 5 6]\n",
            "\n",
            "** prediction: \n",
            " [7 2 1 ... 4 5 6]\n"
          ],
          "name": "stdout"
        }
      ]
    },
    {
      "cell_type": "code",
      "metadata": {
        "id": "7E-Yza7PyqDR"
      },
      "source": [
        ""
      ],
      "execution_count": 8,
      "outputs": []
    }
  ]
}