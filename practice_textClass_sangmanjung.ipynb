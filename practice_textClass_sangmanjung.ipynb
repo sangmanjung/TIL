{
  "nbformat": 4,
  "nbformat_minor": 0,
  "metadata": {
    "colab": {
      "name": "text_classification.ipynb",
      "provenance": [],
      "collapsed_sections": [],
      "toc_visible": true
    },
    "kernelspec": {
      "display_name": "Python 3",
      "name": "python3"
    }
  },
  "cells": [
    {
      "cell_type": "code",
      "metadata": {
        "id": "2ew7HTbPpCJH"
      },
      "source": [
        "# Required libraries\n",
        "import tensorflow as tf\n",
        "from tensorflow import keras\n",
        "\n",
        "# Helper libraries\n",
        "import numpy as np\n",
        "import pandas as pd\n",
        "import matplotlib.pyplot as plt"
      ],
      "execution_count": 1,
      "outputs": []
    },
    {
      "cell_type": "code",
      "metadata": {
        "id": "zXXx5Oc3pOmN",
        "colab": {
          "base_uri": "https://localhost:8080/"
        },
        "outputId": "0e542eed-6ba7-4cbc-add1-e514c02d6219"
      },
      "source": [
        "# dataset load\n",
        "imdb = keras.datasets.imdb\n",
        "\n",
        "# Top 10000 words\n",
        "(train_data, train_labels), (test_data, test_labels) = imdb.load_data(num_words=10000)"
      ],
      "execution_count": 2,
      "outputs": [
        {
          "output_type": "stream",
          "text": [
            "<string>:6: VisibleDeprecationWarning: Creating an ndarray from ragged nested sequences (which is a list-or-tuple of lists-or-tuples-or ndarrays with different lengths or shapes) is deprecated. If you meant to do this, you must specify 'dtype=object' when creating the ndarray\n",
            "/usr/local/lib/python3.7/dist-packages/tensorflow/python/keras/datasets/imdb.py:159: VisibleDeprecationWarning: Creating an ndarray from ragged nested sequences (which is a list-or-tuple of lists-or-tuples-or ndarrays with different lengths or shapes) is deprecated. If you meant to do this, you must specify 'dtype=object' when creating the ndarray\n",
            "  x_train, y_train = np.array(xs[:idx]), np.array(labels[:idx])\n",
            "/usr/local/lib/python3.7/dist-packages/tensorflow/python/keras/datasets/imdb.py:160: VisibleDeprecationWarning: Creating an ndarray from ragged nested sequences (which is a list-or-tuple of lists-or-tuples-or ndarrays with different lengths or shapes) is deprecated. If you meant to do this, you must specify 'dtype=object' when creating the ndarray\n",
            "  x_test, y_test = np.array(xs[idx:]), np.array(labels[idx:])\n"
          ],
          "name": "stderr"
        }
      ]
    },
    {
      "cell_type": "code",
      "metadata": {
        "id": "y8qCnve_-lkO",
        "colab": {
          "base_uri": "https://localhost:8080/"
        },
        "outputId": "5cc42d4c-dc3d-4f2e-8ce0-8ddad968051f"
      },
      "source": [
        "print('* Sample size\\n')\n",
        "print('training samples : {},  labels : {}'.format(train_data.shape,train_labels.shape))\n",
        "\n",
        "print('\\n* Sample type : {}\\n'.format(type(train_data[0][0])))\n",
        "print('>> show the array example: {}'.format(train_data[0][0:10]))"
      ],
      "execution_count": 3,
      "outputs": [
        {
          "output_type": "stream",
          "text": [
            "* Sample size\n",
            "\n",
            "training samples : (25000,),  labels : (25000,)\n",
            "\n",
            "* Sample type : <class 'int'>\n",
            "\n",
            ">> show the array example: [1, 14, 22, 16, 43, 530, 973, 1622, 1385, 65]\n"
          ],
          "name": "stdout"
        }
      ]
    },
    {
      "cell_type": "code",
      "metadata": {
        "colab": {
          "base_uri": "https://localhost:8080/"
        },
        "id": "L70U5Nhd1Yes",
        "outputId": "a7b22650-ad6c-47bb-c878-d45cd0f5bdac"
      },
      "source": [
        "print('* NOTE) Each review (feature) is converted as integer array\\n')\n",
        "for i in range(5):\n",
        "  print('#{}. length of each review : {}'.format(i+1,len(train_data[i])))\n",
        "\n",
        "print('\\n\\n* NOTE) Each label is converted as binary\\n')\n",
        "for i in range(5):\n",
        "  print('#{}. positive is 1, negative is 0 : {}'.format(i+1,train_labels[i]))"
      ],
      "execution_count": 4,
      "outputs": [
        {
          "output_type": "stream",
          "text": [
            "* NOTE) Each review (feature) is converted as integer array\n",
            "\n",
            "#1. length of each review : 218\n",
            "#2. length of each review : 189\n",
            "#3. length of each review : 141\n",
            "#4. length of each review : 550\n",
            "#5. length of each review : 147\n",
            "\n",
            "\n",
            "* NOTE) Each label is converted as binary\n",
            "\n",
            "#1. positive is 1, negative is 0 : 1\n",
            "#2. positive is 1, negative is 0 : 0\n",
            "#3. positive is 1, negative is 0 : 0\n",
            "#4. positive is 1, negative is 0 : 1\n",
            "#5. positive is 1, negative is 0 : 0\n"
          ],
          "name": "stdout"
        }
      ]
    },
    {
      "cell_type": "code",
      "metadata": {
        "colab": {
          "base_uri": "https://localhost:8080/"
        },
        "id": "K0nbndkH6gwv",
        "outputId": "ffd4a97e-9423-4cf9-b835-79765cacdcf4"
      },
      "source": [
        "label_check = pd.DataFrame(train_labels,columns={'class'})\n",
        "\n",
        "positives = label_check[label_check['class'] == 1].count().sum()\n",
        "negatives = label_check[label_check['class'] == 0].count().sum()\n",
        "\n",
        "print('* The balanced label data given\\n')\n",
        "print('>> # of positive: {},  # of negative: {}'.format(positives,negatives))"
      ],
      "execution_count": 5,
      "outputs": [
        {
          "output_type": "stream",
          "text": [
            "* The balanced label data given\n",
            "\n",
            ">> # of positive: 12500,  # of negative: 12500\n"
          ],
          "name": "stdout"
        }
      ]
    },
    {
      "cell_type": "code",
      "metadata": {
        "id": "tr5s_1alpzop",
        "colab": {
          "base_uri": "https://localhost:8080/",
          "height": 171
        },
        "outputId": "2ba2c244-ef19-4711-e284-72f0b159d755"
      },
      "source": [
        "# dictionary = {word: index}\n",
        "word_index = imdb.get_word_index()\n",
        "\n",
        "# define the basic keys in dictionary\n",
        "word_index = {k:(v+3) for k,v in word_index.items()}\n",
        "word_index[\"<PAD>\"] = 0\n",
        "word_index[\"<START>\"] = 1\n",
        "word_index[\"<UNK>\"] = 2  # unknown\n",
        "word_index[\"<UNUSED>\"] = 3\n",
        "\n",
        "reverse_word_index = dict([(value, key) for (key, value) in word_index.items()])\n",
        "\n",
        "def decode_review(text):\n",
        "    return ' '.join([reverse_word_index.get(i, '?') for i in text])\n",
        "\n",
        "# convert original text (review)\n",
        "decode_review(train_data[0])"
      ],
      "execution_count": 6,
      "outputs": [
        {
          "output_type": "execute_result",
          "data": {
            "application/vnd.google.colaboratory.intrinsic+json": {
              "type": "string"
            },
            "text/plain": [
              "\"<START> this film was just brilliant casting location scenery story direction everyone's really suited the part they played and you could just imagine being there robert <UNK> is an amazing actor and now the same being director <UNK> father came from the same scottish island as myself so i loved the fact there was a real connection with this film the witty remarks throughout the film were great it was just brilliant so much that i bought the film as soon as it was released for <UNK> and would recommend it to everyone to watch and the fly fishing was amazing really cried at the end it was so sad and you know what they say if you cry at a film it must have been good and this definitely was also <UNK> to the two little boy's that played the <UNK> of norman and paul they were just brilliant children are often left out of the <UNK> list i think because the stars that play them all grown up are such a big profile for the whole film but these children are amazing and should be praised for what they have done don't you think the whole story was so lovely because it was true and was someone's life after all that was shared with us all\""
            ]
          },
          "metadata": {
            "tags": []
          },
          "execution_count": 6
        }
      ]
    },
    {
      "cell_type": "code",
      "metadata": {
        "id": "2jQv-omsHurp",
        "colab": {
          "base_uri": "https://localhost:8080/"
        },
        "outputId": "1d30d622-85e0-456f-ad2d-bbfbf2ce4111"
      },
      "source": [
        "### Convert to 'Tensor' & Match the vector length to the same length\n",
        "## Methods\n",
        "# One-Hot Encoding : 정수 배열을 0과 1로 이루어진 벡터로 변환. 전체 단어 개수에 length를 맞추므로 메모리 많이 사용\n",
        "# Padding : 기존 정수 배열에 최대 길이 벡터의 length 만큼 0을 붙여주는 방법\n",
        "\n",
        "## .pad_sequence()\n",
        "# value = Float or String, padding value. (Optional, defaults to 0.)\n",
        "# padding = String, 'pre' or 'post' (optional, defaults to 'pre'): pad either before or after each sequence.\n",
        "# maxlen = \tOptional Int, maximum length of all sequences.\n",
        "#           If not provided, sequences will be padded to the length of the longest individual sequence.\n",
        "\n",
        "# * 지정한 maxlen 값보다 시퀀스의 배열 길이가 큰 경우 배열의 앞의 값에서부터 (default) 잘라내어 maxlen 값으로 길이를 맞춘다.\n",
        "# 자르는 부분을 지정하는 함수는 truncating = 'pre' (앞, default) / 'post' (뒤) 로 지정 가능\n",
        "\n",
        "train_data = keras.preprocessing.sequence.pad_sequences(train_data,\n",
        "                                                        value=word_index[\"<PAD>\"], # word_index[\"<PAD>\"] is 0\n",
        "                                                        padding='post',\n",
        "                                                        maxlen=256)\n",
        "\n",
        "test_data = keras.preprocessing.sequence.pad_sequences(test_data,\n",
        "                                                       value=word_index[\"<PAD>\"],\n",
        "                                                       padding='post',\n",
        "                                                       maxlen=256)\n",
        "\n",
        "# check the padded sequence\n",
        "print('(# of reviews, maxlen) = {}'.format(train_data.shape))\n",
        "print()\n",
        "print('Padded results: \\n',train_data[0])"
      ],
      "execution_count": 7,
      "outputs": [
        {
          "output_type": "stream",
          "text": [
            "(# of reviews, maxlen) = (25000, 256)\n",
            "\n",
            "Padded results: \n",
            " [   1   14   22   16   43  530  973 1622 1385   65  458 4468   66 3941\n",
            "    4  173   36  256    5   25  100   43  838  112   50  670    2    9\n",
            "   35  480  284    5  150    4  172  112  167    2  336  385   39    4\n",
            "  172 4536 1111   17  546   38   13  447    4  192   50   16    6  147\n",
            " 2025   19   14   22    4 1920 4613  469    4   22   71   87   12   16\n",
            "   43  530   38   76   15   13 1247    4   22   17  515   17   12   16\n",
            "  626   18    2    5   62  386   12    8  316    8  106    5    4 2223\n",
            " 5244   16  480   66 3785   33    4  130   12   16   38  619    5   25\n",
            "  124   51   36  135   48   25 1415   33    6   22   12  215   28   77\n",
            "   52    5   14  407   16   82    2    8    4  107  117 5952   15  256\n",
            "    4    2    7 3766    5  723   36   71   43  530  476   26  400  317\n",
            "   46    7    4    2 1029   13  104   88    4  381   15  297   98   32\n",
            " 2071   56   26  141    6  194 7486   18    4  226   22   21  134  476\n",
            "   26  480    5  144   30 5535   18   51   36   28  224   92   25  104\n",
            "    4  226   65   16   38 1334   88   12   16  283    5   16 4472  113\n",
            "  103   32   15   16 5345   19  178   32    0    0    0    0    0    0\n",
            "    0    0    0    0    0    0    0    0    0    0    0    0    0    0\n",
            "    0    0    0    0    0    0    0    0    0    0    0    0    0    0\n",
            "    0    0    0    0]\n"
          ],
          "name": "stdout"
        }
      ]
    },
    {
      "cell_type": "code",
      "metadata": {
        "id": "xpKOoWgu-llD",
        "colab": {
          "base_uri": "https://localhost:8080/"
        },
        "outputId": "4751497b-a882-43f4-d4d2-9b046fe8a9fb"
      },
      "source": [
        "# Input size\n",
        "vocab_size = 10000\n",
        "# Embedding size\n",
        "embed_size = 16\n",
        "\n",
        "# Model construction\n",
        "model = keras.Sequential()\n",
        "model.add(keras.layers.Embedding(vocab_size, embed_size, input_shape=(None,))) # word embedding\n",
        "model.add(keras.layers.GlobalAveragePooling1D()) # convert 1D vector\n",
        "model.add(keras.layers.Dense(embed_size, activation='relu')) # hidden layer\n",
        "model.add(keras.layers.Dropout(0.5)) # prevent overfitting\n",
        "model.add(keras.layers.Dense(embed_size, activation='relu')) # hidden layer\n",
        "model.add(keras.layers.Dense(1, activation='sigmoid')) # output is probability\n",
        "\n",
        "model.summary()"
      ],
      "execution_count": 8,
      "outputs": [
        {
          "output_type": "stream",
          "text": [
            "Model: \"sequential\"\n",
            "_________________________________________________________________\n",
            "Layer (type)                 Output Shape              Param #   \n",
            "=================================================================\n",
            "embedding (Embedding)        (None, None, 16)          160000    \n",
            "_________________________________________________________________\n",
            "global_average_pooling1d (Gl (None, 16)                0         \n",
            "_________________________________________________________________\n",
            "dense (Dense)                (None, 16)                272       \n",
            "_________________________________________________________________\n",
            "dropout (Dropout)            (None, 16)                0         \n",
            "_________________________________________________________________\n",
            "dense_1 (Dense)              (None, 16)                272       \n",
            "_________________________________________________________________\n",
            "dense_2 (Dense)              (None, 1)                 17        \n",
            "=================================================================\n",
            "Total params: 160,561\n",
            "Trainable params: 160,561\n",
            "Non-trainable params: 0\n",
            "_________________________________________________________________\n"
          ],
          "name": "stdout"
        }
      ]
    },
    {
      "cell_type": "code",
      "metadata": {
        "id": "Mr0GP-cQ-llN"
      },
      "source": [
        "# for backpropagation\n",
        "model.compile(optimizer='adam', # select the optimization algorithm\n",
        "              loss='binary_crossentropy', # for the output of probability\n",
        "              metrics=['accuracy'])"
      ],
      "execution_count": 9,
      "outputs": []
    },
    {
      "cell_type": "code",
      "metadata": {
        "id": "-NpcXY9--llS"
      },
      "source": [
        "# 훈련 데이터셋만 가지고 모델 학습 및 검증\n",
        "# 테스트 데이터셋은 모델이 만난 적 없는 데이터로, 최종적인 정확도 평가를 위함\n",
        "\n",
        "# split the dataset into train,test\n",
        "x_val = train_data[:10000]\n",
        "partial_x_train = train_data[10000:]\n",
        "\n",
        "y_val = train_labels[:10000]\n",
        "partial_y_train = train_labels[10000:]"
      ],
      "execution_count": 10,
      "outputs": []
    },
    {
      "cell_type": "code",
      "metadata": {
        "id": "tXSGrjWZ-llW",
        "colab": {
          "base_uri": "https://localhost:8080/"
        },
        "outputId": "438f2ffc-2a90-4e87-84ce-2bf33c65f456"
      },
      "source": [
        "## Model training\n",
        "# verbose: Integer. 0, 1, or 2. \n",
        "# 0 = silent, \n",
        "# 1 = progress bar, \n",
        "# 2 = one line per epoch.\n",
        "\n",
        "history = model.fit(partial_x_train,\n",
        "                    partial_y_train,\n",
        "                    epochs=40,\n",
        "                    batch_size=512,\n",
        "                    validation_data=(x_val, y_val),\n",
        "                    verbose=1)"
      ],
      "execution_count": 11,
      "outputs": [
        {
          "output_type": "stream",
          "text": [
            "Epoch 1/40\n",
            "30/30 [==============================] - 2s 40ms/step - loss: 0.6929 - accuracy: 0.5061 - val_loss: 0.6910 - val_accuracy: 0.6629\n",
            "Epoch 2/40\n",
            "30/30 [==============================] - 1s 20ms/step - loss: 0.6896 - accuracy: 0.6209 - val_loss: 0.6812 - val_accuracy: 0.6680\n",
            "Epoch 3/40\n",
            "30/30 [==============================] - 1s 20ms/step - loss: 0.6755 - accuracy: 0.7098 - val_loss: 0.6514 - val_accuracy: 0.7607\n",
            "Epoch 4/40\n",
            "30/30 [==============================] - 1s 20ms/step - loss: 0.6377 - accuracy: 0.7744 - val_loss: 0.5836 - val_accuracy: 0.8157\n",
            "Epoch 5/40\n",
            "30/30 [==============================] - 1s 20ms/step - loss: 0.5606 - accuracy: 0.8119 - val_loss: 0.4923 - val_accuracy: 0.8418\n",
            "Epoch 6/40\n",
            "30/30 [==============================] - 1s 20ms/step - loss: 0.4692 - accuracy: 0.8459 - val_loss: 0.4113 - val_accuracy: 0.8607\n",
            "Epoch 7/40\n",
            "30/30 [==============================] - 1s 20ms/step - loss: 0.3949 - accuracy: 0.8652 - val_loss: 0.3566 - val_accuracy: 0.8721\n",
            "Epoch 8/40\n",
            "30/30 [==============================] - 1s 19ms/step - loss: 0.3325 - accuracy: 0.8876 - val_loss: 0.3243 - val_accuracy: 0.8768\n",
            "Epoch 9/40\n",
            "30/30 [==============================] - 1s 20ms/step - loss: 0.2858 - accuracy: 0.9002 - val_loss: 0.3042 - val_accuracy: 0.8815\n",
            "Epoch 10/40\n",
            "30/30 [==============================] - 1s 19ms/step - loss: 0.2568 - accuracy: 0.9138 - val_loss: 0.2950 - val_accuracy: 0.8835\n",
            "Epoch 11/40\n",
            "30/30 [==============================] - 1s 20ms/step - loss: 0.2304 - accuracy: 0.9250 - val_loss: 0.2872 - val_accuracy: 0.8855\n",
            "Epoch 12/40\n",
            "30/30 [==============================] - 1s 19ms/step - loss: 0.2052 - accuracy: 0.9364 - val_loss: 0.2866 - val_accuracy: 0.8862\n",
            "Epoch 13/40\n",
            "30/30 [==============================] - 1s 19ms/step - loss: 0.1864 - accuracy: 0.9398 - val_loss: 0.2880 - val_accuracy: 0.8871\n",
            "Epoch 14/40\n",
            "30/30 [==============================] - 1s 20ms/step - loss: 0.1704 - accuracy: 0.9474 - val_loss: 0.2928 - val_accuracy: 0.8866\n",
            "Epoch 15/40\n",
            "30/30 [==============================] - 1s 19ms/step - loss: 0.1510 - accuracy: 0.9546 - val_loss: 0.2965 - val_accuracy: 0.8856\n",
            "Epoch 16/40\n",
            "30/30 [==============================] - 1s 20ms/step - loss: 0.1428 - accuracy: 0.9575 - val_loss: 0.3042 - val_accuracy: 0.8837\n",
            "Epoch 17/40\n",
            "30/30 [==============================] - 1s 20ms/step - loss: 0.1303 - accuracy: 0.9633 - val_loss: 0.3105 - val_accuracy: 0.8842\n",
            "Epoch 18/40\n",
            "30/30 [==============================] - 1s 20ms/step - loss: 0.1248 - accuracy: 0.9660 - val_loss: 0.3211 - val_accuracy: 0.8824\n",
            "Epoch 19/40\n",
            "30/30 [==============================] - 1s 20ms/step - loss: 0.1115 - accuracy: 0.9702 - val_loss: 0.3286 - val_accuracy: 0.8827\n",
            "Epoch 20/40\n",
            "30/30 [==============================] - 1s 20ms/step - loss: 0.1028 - accuracy: 0.9747 - val_loss: 0.3401 - val_accuracy: 0.8801\n",
            "Epoch 21/40\n",
            "30/30 [==============================] - 1s 20ms/step - loss: 0.0980 - accuracy: 0.9752 - val_loss: 0.3503 - val_accuracy: 0.8796\n",
            "Epoch 22/40\n",
            "30/30 [==============================] - 1s 19ms/step - loss: 0.0973 - accuracy: 0.9760 - val_loss: 0.3573 - val_accuracy: 0.8787\n",
            "Epoch 23/40\n",
            "30/30 [==============================] - 1s 20ms/step - loss: 0.0809 - accuracy: 0.9820 - val_loss: 0.3669 - val_accuracy: 0.8768\n",
            "Epoch 24/40\n",
            "30/30 [==============================] - 1s 19ms/step - loss: 0.0827 - accuracy: 0.9806 - val_loss: 0.3780 - val_accuracy: 0.8776\n",
            "Epoch 25/40\n",
            "30/30 [==============================] - 1s 20ms/step - loss: 0.0741 - accuracy: 0.9827 - val_loss: 0.3877 - val_accuracy: 0.8765\n",
            "Epoch 26/40\n",
            "30/30 [==============================] - 1s 20ms/step - loss: 0.0711 - accuracy: 0.9847 - val_loss: 0.4052 - val_accuracy: 0.8766\n",
            "Epoch 27/40\n",
            "30/30 [==============================] - 1s 19ms/step - loss: 0.0596 - accuracy: 0.9865 - val_loss: 0.4149 - val_accuracy: 0.8761\n",
            "Epoch 28/40\n",
            "30/30 [==============================] - 1s 19ms/step - loss: 0.0574 - accuracy: 0.9885 - val_loss: 0.4293 - val_accuracy: 0.8745\n",
            "Epoch 29/40\n",
            "30/30 [==============================] - 1s 20ms/step - loss: 0.0598 - accuracy: 0.9879 - val_loss: 0.4401 - val_accuracy: 0.8739\n",
            "Epoch 30/40\n",
            "30/30 [==============================] - 1s 20ms/step - loss: 0.0542 - accuracy: 0.9871 - val_loss: 0.4523 - val_accuracy: 0.8728\n",
            "Epoch 31/40\n",
            "30/30 [==============================] - 1s 20ms/step - loss: 0.0461 - accuracy: 0.9888 - val_loss: 0.4609 - val_accuracy: 0.8708\n",
            "Epoch 32/40\n",
            "30/30 [==============================] - 1s 20ms/step - loss: 0.0462 - accuracy: 0.9892 - val_loss: 0.4754 - val_accuracy: 0.8725\n",
            "Epoch 33/40\n",
            "30/30 [==============================] - 1s 20ms/step - loss: 0.0399 - accuracy: 0.9916 - val_loss: 0.4894 - val_accuracy: 0.8710\n",
            "Epoch 34/40\n",
            "30/30 [==============================] - 1s 19ms/step - loss: 0.0375 - accuracy: 0.9911 - val_loss: 0.5021 - val_accuracy: 0.8704\n",
            "Epoch 35/40\n",
            "30/30 [==============================] - 1s 20ms/step - loss: 0.0354 - accuracy: 0.9925 - val_loss: 0.5137 - val_accuracy: 0.8703\n",
            "Epoch 36/40\n",
            "30/30 [==============================] - 1s 20ms/step - loss: 0.0345 - accuracy: 0.9915 - val_loss: 0.5261 - val_accuracy: 0.8702\n",
            "Epoch 37/40\n",
            "30/30 [==============================] - 1s 19ms/step - loss: 0.0330 - accuracy: 0.9925 - val_loss: 0.5419 - val_accuracy: 0.8678\n",
            "Epoch 38/40\n",
            "30/30 [==============================] - 1s 19ms/step - loss: 0.0330 - accuracy: 0.9945 - val_loss: 0.5473 - val_accuracy: 0.8686\n",
            "Epoch 39/40\n",
            "30/30 [==============================] - 1s 20ms/step - loss: 0.0316 - accuracy: 0.9926 - val_loss: 0.5582 - val_accuracy: 0.8678\n",
            "Epoch 40/40\n",
            "30/30 [==============================] - 1s 19ms/step - loss: 0.0270 - accuracy: 0.9930 - val_loss: 0.5725 - val_accuracy: 0.8675\n"
          ],
          "name": "stdout"
        }
      ]
    },
    {
      "cell_type": "code",
      "metadata": {
        "id": "zOMKywn4zReN",
        "colab": {
          "base_uri": "https://localhost:8080/"
        },
        "outputId": "d95123c3-e9e5-40a8-be7b-f73e6221a38b"
      },
      "source": [
        "## Model evaluation\n",
        "results = model.evaluate(test_data,  test_labels, verbose=2)\n",
        "print(results)"
      ],
      "execution_count": 12,
      "outputs": [
        {
          "output_type": "stream",
          "text": [
            "782/782 - 1s - loss: 0.6143 - accuracy: 0.8563\n",
            "[0.6142776012420654, 0.8562800288200378]\n"
          ],
          "name": "stdout"
        }
      ]
    },
    {
      "cell_type": "code",
      "metadata": {
        "id": "VcvSXvhp-llb",
        "colab": {
          "base_uri": "https://localhost:8080/"
        },
        "outputId": "1e4a5153-c21b-440d-c554-cf3815d686f2"
      },
      "source": [
        "# check the information in model training process (use .history)\n",
        "history_dict = history.history\n",
        "history_dict.keys() # we can check"
      ],
      "execution_count": 13,
      "outputs": [
        {
          "output_type": "execute_result",
          "data": {
            "text/plain": [
              "dict_keys(['loss', 'accuracy', 'val_loss', 'val_accuracy'])"
            ]
          },
          "metadata": {
            "tags": []
          },
          "execution_count": 13
        }
      ]
    },
    {
      "cell_type": "code",
      "metadata": {
        "id": "nGoYf2Js-lle",
        "colab": {
          "base_uri": "https://localhost:8080/",
          "height": 350
        },
        "outputId": "8b48c530-5200-408d-e471-6a57733a85d9"
      },
      "source": [
        "acc = history_dict['accuracy']\n",
        "val_acc = history_dict['val_accuracy']\n",
        "loss = history_dict['loss']\n",
        "val_loss = history_dict['val_loss']\n",
        "\n",
        "epochs = range(1, len(acc) + 1)\n",
        "\n",
        "plt.figure(figsize = (15,5))\n",
        "# Loss function plot\n",
        "plt.subplot(1,2,1)\n",
        "plt.plot(epochs, loss, 'b-*', label='Training loss')\n",
        "plt.plot(epochs, val_loss, 'r', label='Validation loss')\n",
        "plt.title('Training and validation loss')\n",
        "plt.xlabel('Epochs')\n",
        "plt.ylabel('Loss')\n",
        "plt.legend()\n",
        "\n",
        "# Accuracy plot\n",
        "plt.subplot(1,2,2)\n",
        "plt.plot(epochs, acc, 'b-*', label='Training acc')\n",
        "plt.plot(epochs, val_acc, 'r', label='Validation acc')\n",
        "plt.title('Training and validation accuracy')\n",
        "plt.xlabel('Epochs')\n",
        "plt.ylabel('Accuracy')\n",
        "plt.legend()\n",
        "\n",
        "plt.show()\n",
        "\n",
        "# the best EPOCH = nearly 20"
      ],
      "execution_count": 14,
      "outputs": [
        {
          "output_type": "display_data",
          "data": {
            "image/png": "[encoded data removed]",
            "text/plain": [
              "<Figure size 1080x360 with 2 Axes>"
            ]
          },
          "metadata": {
            "tags": [],
            "needs_background": "light"
          }
        }
      ]
    },
    {
      "cell_type": "code",
      "metadata": {
        "colab": {
          "base_uri": "https://localhost:8080/"
        },
        "id": "FaWqrvTaOtNJ",
        "outputId": "82dbee2f-05c5-4a59-e8fe-7346a4b686d3"
      },
      "source": [
        "output = model.predict(test_data)\n",
        "prediction = output.round().astype('int')\n",
        "\n",
        "print('* prediction: ',prediction[0:20].reshape(-1))\n",
        "print('* true label: ',test_labels[0:20])"
      ],
      "execution_count": 15,
      "outputs": [
        {
          "output_type": "stream",
          "text": [
            "* prediction:  [0 1 0 1 1 1 1 0 1 1 1 0 0 0 1 0 1 1 0 0]\n",
            "* true label:  [0 1 1 0 1 1 1 0 0 1 1 0 0 0 1 0 1 0 0 0]\n"
          ],
          "name": "stdout"
        }
      ]
    }
  ]
}