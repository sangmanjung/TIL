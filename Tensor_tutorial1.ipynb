{
 "cells": [
  {
   "cell_type": "markdown",
   "metadata": {},
   "source": [
    "## Pytorch Exercises 1\n",
    "  \n",
    "### Pytorch Tensor Exercises"
   ]
  },
  {
   "cell_type": "code",
   "execution_count": 1,
   "metadata": {},
   "outputs": [],
   "source": [
    "# import pytorch library\n",
    "import torch"
   ]
  },
  {
   "cell_type": "markdown",
   "metadata": {},
   "source": [
    "#### 01. Tensor allocation"
   ]
  },
  {
   "cell_type": "code",
   "execution_count": 2,
   "metadata": {},
   "outputs": [
    {
     "name": "stdout",
     "output_type": "stream",
     "text": [
      "* float tensor (float elements) :\n",
      "\n",
      " tensor([[1., 2.],\n",
      "        [3., 4.]])\n",
      "\n",
      "* long tensor (integer elements) :\n",
      "\n",
      " tensor([[ 1, -2],\n",
      "        [-3,  4]])\n",
      "\n",
      "* byte tensor (positive integer elements) :\n",
      "\n",
      " tensor([[  1, 254],\n",
      "        [253,   4]], dtype=torch.uint8)\n"
     ]
    }
   ],
   "source": [
    "## create tensor (3 types)\n",
    "\n",
    "# Float Tensor (float)\n",
    "ft = torch.FloatTensor([[1,2],\n",
    "                        [3,4]])\n",
    "print('* float tensor (float elements) :\\n\\n',ft)\n",
    "\n",
    "# Long Tensor (integer)\n",
    "lt = torch.LongTensor([[1,-2],\n",
    "                       [-3,4]])\n",
    "print('\\n* long tensor (integer elements) :\\n\\n',lt)\n",
    "\n",
    "# Byte Tensor (positive integer)\n",
    "bt = torch.ByteTensor([[1,-2],\n",
    "                       [-3,4]])\n",
    "print('\\n* byte tensor (positive integer elements) :\\n\\n',bt)"
   ]
  },
  {
   "cell_type": "markdown",
   "metadata": {},
   "source": [
    "#### 02. Tensor preallocation (random value)"
   ]
  },
  {
   "cell_type": "code",
   "execution_count": 3,
   "metadata": {},
   "outputs": [
    {
     "name": "stdout",
     "output_type": "stream",
     "text": [
      "tensor([[0.0000e+00, 0.0000e+00, 1.8788e+31, 1.7220e+22, 9.6695e-06],\n",
      "        [2.6075e-09, 1.3096e-11, 2.0451e+20, 3.3586e-06, 6.4900e-10],\n",
      "        [1.0477e+21, 2.1864e+23, 8.2288e-10, 2.3053e-12, 1.1495e+24],\n",
      "        [3.0881e+29, 2.5226e-18, 4.2330e+21, 1.6534e+19, 1.1625e+27],\n",
      "        [2.3329e-18, 4.5447e+30, 7.0062e+22, 1.2853e+31, 4.4765e+27]])\n"
     ]
    }
   ],
   "source": [
    "## pre-allocation\n",
    "# 특정 shape를 갖는 임의의 tensor를 생성하고 싶을 때 주로 사용\n",
    "# torch.FloatTensor(dim1,dim2,dim3,...)\n",
    "x = torch.FloatTensor(5,5)\n",
    "print(x)"
   ]
  },
  {
   "cell_type": "markdown",
   "metadata": {},
   "source": [
    "#### 03. NumPy compatibility"
   ]
  },
  {
   "cell_type": "code",
   "execution_count": 4,
   "metadata": {},
   "outputs": [
    {
     "name": "stdout",
     "output_type": "stream",
     "text": [
      "* original numpy\n",
      "\n",
      " [[1 2]\n",
      " [3 4]]\n",
      "\n",
      "* tensor from numpy\n",
      "\n",
      " tensor([[1, 2],\n",
      "        [3, 4]])\n",
      "\n",
      "* original tensor\n",
      "\n",
      " tensor([[1, 2],\n",
      "        [3, 4]])\n",
      "\n",
      "* numpy from tensor\n",
      "\n",
      " [[1 2]\n",
      " [3 4]]\n"
     ]
    }
   ],
   "source": [
    "import numpy as np\n",
    "\n",
    "# numpy array\n",
    "x = np.array([[1,2],\n",
    "              [3,4]])\n",
    "print('* original numpy\\n\\n',x)\n",
    "\n",
    "# the tensor using numpy array\n",
    "xt = torch.from_numpy(x)\n",
    "print('\\n* tensor from numpy\\n\\n',xt)\n",
    "\n",
    "# the pure tensor\n",
    "tx = torch.LongTensor([[1,2],\n",
    "                       [3,4]])\n",
    "print('\\n* original tensor\\n\\n',tx)\n",
    "\n",
    "# convert the pure tensor to numpy array\n",
    "ntx = tx.numpy()\n",
    "print('\\n* numpy from tensor\\n\\n',ntx)"
   ]
  },
  {
   "cell_type": "markdown",
   "metadata": {},
   "source": [
    "#### 04. Tensor type-casting"
   ]
  },
  {
   "cell_type": "code",
   "execution_count": 5,
   "metadata": {},
   "outputs": [
    {
     "name": "stdout",
     "output_type": "stream",
     "text": [
      "tensor([[1., 2.],\n",
      "        [3., 4.]]) \n",
      "\n",
      " tensor([[1, 2],\n",
      "        [3, 4]])\n"
     ]
    }
   ],
   "source": [
    "print(ft,'\\n\\n',ft.long())"
   ]
  },
  {
   "cell_type": "code",
   "execution_count": 6,
   "metadata": {},
   "outputs": [
    {
     "name": "stdout",
     "output_type": "stream",
     "text": [
      "tensor([[ 1, -2],\n",
      "        [-3,  4]]) \n",
      "\n",
      " tensor([[ 1., -2.],\n",
      "        [-3.,  4.]])\n"
     ]
    }
   ],
   "source": [
    "print(lt,'\\n\\n',lt.float())"
   ]
  },
  {
   "cell_type": "code",
   "execution_count": 7,
   "metadata": {},
   "outputs": [
    {
     "name": "stdout",
     "output_type": "stream",
     "text": [
      "tensor([[255,   2],\n",
      "        [253,   4]], dtype=torch.uint8)\n"
     ]
    }
   ],
   "source": [
    "print(torch.FloatTensor([[-1,2],[-3,4]]).byte())"
   ]
  },
  {
   "cell_type": "markdown",
   "metadata": {},
   "source": [
    "#### 05. Tensor shape"
   ]
  },
  {
   "cell_type": "code",
   "execution_count": 8,
   "metadata": {},
   "outputs": [
    {
     "name": "stdout",
     "output_type": "stream",
     "text": [
      "* tensor shape:\n",
      " torch.Size([7, 3])\n",
      "\n",
      "* tensor shape (slicing):\n",
      " 7\n",
      "\n",
      "* tensor size (== shape):\n",
      " torch.Size([7, 3])\n",
      "\n",
      "* tensor dimension (== len(shape)):\n",
      " 2\n"
     ]
    }
   ],
   "source": [
    "t = torch.FloatTensor(7,3)\n",
    "\n",
    "print('* tensor shape:\\n',t.shape)\n",
    "print('\\n* tensor shape (slicing):\\n',t.shape[0])\n",
    "print('\\n* tensor size (== shape):\\n',t.size())\n",
    "print('\\n* tensor dimension (== len(shape)):\\n',t.dim())\n"
   ]
  },
  {
   "cell_type": "markdown",
   "metadata": {},
   "source": [
    "#### 06. Element-wise operations"
   ]
  },
  {
   "cell_type": "code",
   "execution_count": 9,
   "metadata": {},
   "outputs": [],
   "source": [
    "a = torch.FloatTensor([[1, 2],\n",
    "                       [3, 4]])\n",
    "b = torch.FloatTensor([[2, 2],\n",
    "                       [3, 3]])"
   ]
  },
  {
   "cell_type": "code",
   "execution_count": 10,
   "metadata": {},
   "outputs": [
    {
     "name": "stdout",
     "output_type": "stream",
     "text": [
      "tensor([[3., 4.],\n",
      "        [6., 7.]])\n",
      "tensor([[-1.,  0.],\n",
      "        [ 0.,  1.]])\n",
      "tensor([[ 2.,  4.],\n",
      "        [ 9., 12.]])\n",
      "tensor([[0.5000, 1.0000],\n",
      "        [1.0000, 1.3333]])\n",
      "tensor([[False,  True],\n",
      "        [ True, False]])\n",
      "tensor([[ True, False],\n",
      "        [False,  True]])\n",
      "tensor([[ 1.,  4.],\n",
      "        [27., 64.]])\n"
     ]
    }
   ],
   "source": [
    "# element-wise operations\n",
    "print(a + b)\n",
    "print(a - b)\n",
    "print(a * b)\n",
    "print(a / b)\n",
    "print(a == b)\n",
    "print(a != b)\n",
    "print(a ** b)"
   ]
  },
  {
   "cell_type": "markdown",
   "metadata": {},
   "source": [
    "#### 07. Inplace operations"
   ]
  },
  {
   "cell_type": "code",
   "execution_count": 11,
   "metadata": {},
   "outputs": [
    {
     "name": "stdout",
     "output_type": "stream",
     "text": [
      ".mul() don't save the result\n",
      "\n",
      "tensor([[ 2.,  4.],\n",
      "        [ 9., 12.]])\n",
      "tensor([[1., 2.],\n",
      "        [3., 4.]])\n",
      "\n",
      ".mul_() saves the result\n",
      "\n",
      "tensor([[ 2.,  4.],\n",
      "        [ 9., 12.]])\n",
      "tensor([[ 2.,  4.],\n",
      "        [ 9., 12.]])\n"
     ]
    }
   ],
   "source": [
    "print(\".mul() don't save the result\\n\")\n",
    "print(a.mul(b))\n",
    "print(a)\n",
    "print()\n",
    "print(\".mul_() saves the result\\n\")\n",
    "print(a.mul_(b))\n",
    "print(a)"
   ]
  },
  {
   "cell_type": "markdown",
   "metadata": {},
   "source": [
    "#### 08. Aggregation functions (Dimension reducing operations)"
   ]
  },
  {
   "cell_type": "code",
   "execution_count": 12,
   "metadata": {},
   "outputs": [
    {
     "name": "stdout",
     "output_type": "stream",
     "text": [
      "tensor(10.)\n",
      "tensor(2.5000)\n",
      "tensor([4., 6.])\n",
      "tensor([1.5000, 3.5000])\n",
      "tensor(1.2910)\n",
      "tensor(1.6667)\n",
      "tensor(1.)\n",
      "tensor(4.)\n"
     ]
    }
   ],
   "source": [
    "x = torch.FloatTensor([[1,2],\n",
    "                       [3,4]])\n",
    "# note)\n",
    "# axis = 0 -> dim1\n",
    "# axis = 1 -> dim2\n",
    "# axis = -1 -> auto\n",
    "print(x.sum())\n",
    "print(x.mean())\n",
    "print(x.sum(axis = 0))\n",
    "print(x.mean(axis = -1))\n",
    "\n",
    "# other aggregation functions\n",
    "print(x.std())\n",
    "print(x.var())\n",
    "print(x.min())\n",
    "print(x.max())"
   ]
  },
  {
   "cell_type": "markdown",
   "metadata": {},
   "source": [
    "#### 09. Broadcast in operations\n",
    "Broadcast feature provides operations between different shape of tensors."
   ]
  },
  {
   "cell_type": "code",
   "execution_count": 13,
   "metadata": {},
   "outputs": [
    {
     "name": "stdout",
     "output_type": "stream",
     "text": [
      "torch.Size([1, 2])\n",
      "torch.Size([1, 2])\n"
     ]
    }
   ],
   "source": [
    "x = torch.FloatTensor([[1, 2]])\n",
    "y = torch.FloatTensor([[4, 8]])\n",
    "\n",
    "print(x.size())\n",
    "print(y.size())"
   ]
  },
  {
   "cell_type": "code",
   "execution_count": 14,
   "metadata": {},
   "outputs": [
    {
     "name": "stdout",
     "output_type": "stream",
     "text": [
      "tensor([[ 5., 10.]])\n",
      "torch.Size([1, 2])\n"
     ]
    }
   ],
   "source": [
    "z = x+y\n",
    "print(z)\n",
    "print(z.size())"
   ]
  },
  {
   "cell_type": "markdown",
   "metadata": {},
   "source": [
    "##### Tensor + Scalar"
   ]
  },
  {
   "cell_type": "code",
   "execution_count": 15,
   "metadata": {},
   "outputs": [
    {
     "name": "stdout",
     "output_type": "stream",
     "text": [
      "tensor([[3., 4.],\n",
      "        [5., 6.]])\n",
      "torch.Size([2, 2])\n"
     ]
    }
   ],
   "source": [
    "x = torch.FloatTensor([[1,2],\n",
    "                       [3,4]])\n",
    "c = 2\n",
    "\n",
    "z = c + x\n",
    "print(z)\n",
    "print(z.size())"
   ]
  },
  {
   "cell_type": "markdown",
   "metadata": {},
   "source": [
    "##### Tensor + Vector"
   ]
  },
  {
   "cell_type": "code",
   "execution_count": 16,
   "metadata": {},
   "outputs": [
    {
     "name": "stdout",
     "output_type": "stream",
     "text": [
      "tensor([[2., 3.],\n",
      "        [4., 5.]])\n",
      "torch.Size([2, 2])\n"
     ]
    }
   ],
   "source": [
    "v = torch.FloatTensor([1,\n",
    "                       1])\n",
    "z = v + x\n",
    "print(z)\n",
    "print(z.size())"
   ]
  },
  {
   "cell_type": "markdown",
   "metadata": {},
   "source": [
    "##### Tensor + Tensor"
   ]
  },
  {
   "cell_type": "code",
   "execution_count": 17,
   "metadata": {},
   "outputs": [
    {
     "name": "stdout",
     "output_type": "stream",
     "text": [
      "torch.Size([1, 2])\n",
      "torch.Size([2, 1])\n"
     ]
    }
   ],
   "source": [
    "x = torch.FloatTensor([[1, 2]])\n",
    "y = torch.FloatTensor([[3],\n",
    "                       [5]])\n",
    "\n",
    "print(x.size())\n",
    "print(y.size())"
   ]
  },
  {
   "cell_type": "code",
   "execution_count": 18,
   "metadata": {},
   "outputs": [
    {
     "name": "stdout",
     "output_type": "stream",
     "text": [
      "tensor([[4., 5.],\n",
      "        [6., 7.]])\n",
      "torch.Size([2, 2])\n"
     ]
    }
   ],
   "source": [
    "# x(1,1~2) + y(1,1)\n",
    "# x(1,1~2) + y(2,1)\n",
    "z = x + y\n",
    "print(z)\n",
    "print(z.size())"
   ]
  },
  {
   "cell_type": "markdown",
   "metadata": {},
   "source": [
    "##### Failure Case"
   ]
  },
  {
   "cell_type": "code",
   "execution_count": 19,
   "metadata": {},
   "outputs": [
    {
     "name": "stdout",
     "output_type": "stream",
     "text": [
      "torch.Size([1, 2, 2])\n",
      "torch.Size([3, 3])\n"
     ]
    },
    {
     "ename": "RuntimeError",
     "evalue": "The size of tensor a (2) must match the size of tensor b (3) at non-singleton dimension 2",
     "output_type": "error",
     "traceback": [
      "\u001b[0;31m---------------------------------------------------------------------------\u001b[0m",
      "\u001b[0;31mRuntimeError\u001b[0m                              Traceback (most recent call last)",
      "\u001b[0;32m<ipython-input-19-d79203316342>\u001b[0m in \u001b[0;36m<module>\u001b[0;34m\u001b[0m\n\u001b[1;32m      8\u001b[0m \u001b[0mprint\u001b[0m\u001b[0;34m(\u001b[0m\u001b[0my\u001b[0m\u001b[0;34m.\u001b[0m\u001b[0msize\u001b[0m\u001b[0;34m(\u001b[0m\u001b[0;34m)\u001b[0m\u001b[0;34m)\u001b[0m\u001b[0;34m\u001b[0m\u001b[0;34m\u001b[0m\u001b[0m\n\u001b[1;32m      9\u001b[0m \u001b[0;34m\u001b[0m\u001b[0m\n\u001b[0;32m---> 10\u001b[0;31m \u001b[0mz\u001b[0m \u001b[0;34m=\u001b[0m \u001b[0mx\u001b[0m \u001b[0;34m+\u001b[0m \u001b[0my\u001b[0m\u001b[0;34m\u001b[0m\u001b[0;34m\u001b[0m\u001b[0m\n\u001b[0m",
      "\u001b[0;31mRuntimeError\u001b[0m: The size of tensor a (2) must match the size of tensor b (3) at non-singleton dimension 2"
     ]
    }
   ],
   "source": [
    "# 차원이 다른 경우 scalar 차원의 'Tensor'만 연산 가능\n",
    "x = torch.FloatTensor([[[1, 2],\n",
    "                        [4, 8]]])\n",
    "y = torch.FloatTensor([[1, 2, 3],\n",
    "                       [4, 5, 6],\n",
    "                       [7, 8, 9]])\n",
    "\n",
    "print(x.size())\n",
    "print(y.size())\n",
    "\n",
    "z = x + y"
   ]
  },
  {
   "cell_type": "code",
   "execution_count": null,
   "metadata": {},
   "outputs": [],
   "source": []
  }
 ],
 "metadata": {
  "kernelspec": {
   "display_name": "Python 3",
   "language": "python",
   "name": "python3"
  },
  "language_info": {
   "codemirror_mode": {
    "name": "ipython",
    "version": 3
   },
   "file_extension": ".py",
   "mimetype": "text/x-python",
   "name": "python",
   "nbconvert_exporter": "python",
   "pygments_lexer": "ipython3",
   "version": "3.8.5"
  }
 },
 "nbformat": 4,
 "nbformat_minor": 4
}
