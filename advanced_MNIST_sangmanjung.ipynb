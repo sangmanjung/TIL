{
  "nbformat": 4,
  "nbformat_minor": 0,
  "metadata": {
    "colab": {
      "name": "advanced_MNIST_sangmanjung.ipynb",
      "provenance": [],
      "collapsed_sections": [],
      "toc_visible": true
    },
    "kernelspec": {
      "display_name": "Python 3",
      "name": "python3"
    },
    "accelerator": "GPU"
  },
  "cells": [
    {
      "cell_type": "markdown",
      "metadata": {
        "id": "MByKzJe05EPR"
      },
      "source": [
        "### **Import the packages**"
      ]
    },
    {
      "cell_type": "code",
      "metadata": {
        "id": "0trJmd6DjqBZ"
      },
      "source": [
        "# !pip install tensorflow-gpu==2.0.0-rc1\n",
        "import tensorflow as tf\n",
        "from tensorflow.keras.layers import Dense, Flatten, Conv2D\n",
        "from tensorflow.keras import Model\n",
        "\n",
        "import matplotlib.pyplot as plt\n",
        "import numpy as np"
      ],
      "execution_count": 2,
      "outputs": []
    },
    {
      "cell_type": "markdown",
      "metadata": {
        "id": "Brrk504n5Scx"
      },
      "source": [
        "### **Load MNIST dataset**"
      ]
    },
    {
      "cell_type": "code",
      "metadata": {
        "id": "JqFRS6K07jJs"
      },
      "source": [
        "mnist = tf.keras.datasets.mnist\n",
        "\n",
        "(x_train, y_train), (x_test, y_test) = mnist.load_data() # load the dataset\n",
        "x_train, x_test = x_train / 255.0, x_test / 255.0 # convert the data type to 'float'\n",
        "\n",
        "## Channel\n",
        "# Dimension of image == (pixel X pixel X Channel)\n",
        "# Color image -> RGB (Red,Green,Blue) image == 3 Channel\n",
        "# Grayscale image -> 1 Channel\n",
        "# Example) The color image which have the shape: height : 39, width : 28\n",
        "# ->> dimension of the image == (39,28,3)\n",
        "\n",
        "# add the dimension of 'channel'\n",
        "x_train = x_train[..., tf.newaxis]\n",
        "x_test = x_test[..., tf.newaxis]"
      ],
      "execution_count": 3,
      "outputs": []
    },
    {
      "cell_type": "markdown",
      "metadata": {
        "id": "xCWbvxi15m6J"
      },
      "source": [
        "### **Apply 'Shuffle' and 'batch size' using tf.data API**"
      ]
    },
    {
      "cell_type": "code",
      "metadata": {
        "id": "8Iu_quO024c2"
      },
      "source": [
        "## tf.data API\n",
        "# This gives us the efficient input pipeline to serve the dataset to model in the problem relate to images (specific)\n",
        "# refer to:  https://www.kaggle.com/jalammar/intro-to-data-input-pipelines-with-tf-data\n",
        "\n",
        "## Methods of tf.data\n",
        "# .Dataset : create the dataset\n",
        "# .from_tensor_slices : convert the data type to 'tf.Tensor'\n",
        "# .shuffle : exchange the array / value randomly\n",
        "# .batch : split (preallocate) the data to train the model\n",
        "\n",
        "## buffer size in .shuffle (stackoverflow answer)\n",
        "# If buffer size is 100, it means that Tensorflow will keep a buffer of the next 100 samples,\n",
        "# and will randomly select one those 100 samples. it then adds the next element to the buffer.\n",
        "# so, if buffer_size = 1 there is no shuffle at all,\n",
        "# and if buffer_size > data_set_size a perfect uniform random shuffle is guaranteed.\n",
        "# I would highly suggest to shuffle the data set before creating the TFrecords, and keep a small buffer size.\n",
        "\n",
        "train_ds = tf.data.Dataset.from_tensor_slices((x_train, y_train)).shuffle(buffer_size = 10000).batch(32)\n",
        "test_ds = tf.data.Dataset.from_tensor_slices((x_test, y_test)).batch(32)"
      ],
      "execution_count": 4,
      "outputs": []
    },
    {
      "cell_type": "markdown",
      "metadata": {
        "id": "AnLzz8ZI55K_"
      },
      "source": [
        "### **Model construction**"
      ]
    },
    {
      "cell_type": "code",
      "metadata": {
        "id": "h3IKyzTCDNGo"
      },
      "source": [
        "# create the simple CNN model\n",
        "class MyModel(Model):\n",
        "  def __init__(self):\n",
        "    super(MyModel, self).__init__()\n",
        "    self.conv1 = Conv2D(32, 3, activation='relu')\n",
        "    self.flatten = Flatten()\n",
        "    self.d1 = Dense(128, activation='relu')\n",
        "    self.d2 = Dense(10, activation='softmax')\n",
        "\n",
        "  def call(self, x): # call the model output for given new input\n",
        "    x = self.conv1(x)\n",
        "    x = self.flatten(x)\n",
        "    x = self.d1(x)\n",
        "    return self.d2(x)\n",
        "\n",
        "model = MyModel()"
      ],
      "execution_count": 5,
      "outputs": []
    },
    {
      "cell_type": "markdown",
      "metadata": {
        "id": "w2uemElN5-VZ"
      },
      "source": [
        "### **Choose the lossfunction and optimizer**"
      ]
    },
    {
      "cell_type": "code",
      "metadata": {
        "id": "u48C9WQ774n4"
      },
      "source": [
        "# choose the loss function and optimizer as 'default'\n",
        "loss_object = tf.keras.losses.SparseCategoricalCrossentropy()\n",
        "optimizer = tf.keras.optimizers.Adam()"
      ],
      "execution_count": 6,
      "outputs": []
    },
    {
      "cell_type": "markdown",
      "metadata": {
        "id": "53AOmLHB6EaK"
      },
      "source": [
        "### **Divide into training, test**"
      ]
    },
    {
      "cell_type": "code",
      "metadata": {
        "id": "N0MqHFb4F_qn"
      },
      "source": [
        "# .Mean() : Computes the (weighted) mean of the given values\n",
        "train_loss = tf.keras.metrics.Mean(name='train_loss')\n",
        "train_accuracy = tf.keras.metrics.SparseCategoricalAccuracy(name='train_accuracy')\n",
        "\n",
        "test_loss = tf.keras.metrics.Mean(name='test_loss')\n",
        "test_accuracy = tf.keras.metrics.SparseCategoricalAccuracy(name='test_accuracy')"
      ],
      "execution_count": 7,
      "outputs": []
    },
    {
      "cell_type": "markdown",
      "metadata": {
        "id": "6CzRFL8z6pW7"
      },
      "source": [
        "### **Build training pipeline**"
      ]
    },
    {
      "cell_type": "code",
      "metadata": {
        "id": "OZACiVqA8KQV"
      },
      "source": [
        "## tf.function\n",
        "# TF 2.0에서 eager execution이 default 이다.\n",
        "# eager 모드는 매우 직관적으로 유연한 UI를 제공하지만 performance와 deploy함에 있어서 expense를 갖는다.\n",
        "# 즉 더 나은 performance와 deployability를 위해 graph모드를 병행 해야 하는데, tf.function을 활용해 코드에서 graph를 만들 수 있게 한다.\n",
        "# 즉, TF 2.0은 TF 1.0의 연산 효율(graph)와 구현 용이(eager)를 통합하며 그 중심에 tf.function()이 있다\n",
        "# @tf.function을 사용하면 파이썬 함수를 TF operation처럼 정의 할 수 있다.\n",
        "# eagerly 실행 할 수 있고, graph 내에서 사용 할 수 있으며 물론 gradients도 갖는다.\n",
        "# @tf.function annotation을 사용하면 함수처럼 호출 되지만 graph로 컴파일 된다.\n",
        "# 그 말인 즉슨, GPU나 TPU위에서 빠른 실행을 시킬 수 있고 SaveModel을 통해 export도 가능하단 것.\n",
        "\n",
        "@tf.function \n",
        "def train_step(images, labels): ### Model training\n",
        "  with tf.GradientTape() as tape: # record the auto gradient as tape\n",
        "    predictions = model(images)\n",
        "    loss = loss_object(labels, predictions)\n",
        "  # compute gradients for given loss with variables for training\n",
        "  gradients = tape.gradient(loss, model.trainable_variables)\n",
        "  optimizer.apply_gradients(zip(gradients, model.trainable_variables))\n",
        "\n",
        "  train_loss(loss) # mean loss\n",
        "  train_accuracy(labels, predictions) # sparse categorical accuracy"
      ],
      "execution_count": 8,
      "outputs": []
    },
    {
      "cell_type": "markdown",
      "metadata": {
        "id": "PpWC6EZV7D7W"
      },
      "source": [
        "### **Build test pipeline**"
      ]
    },
    {
      "cell_type": "code",
      "metadata": {
        "id": "xIKdEzHAJGt7"
      },
      "source": [
        "@tf.function\n",
        "def test_step(images, labels): ### Model validation\n",
        "  predictions = model(images)\n",
        "  t_loss = loss_object(labels, predictions)\n",
        "\n",
        "  test_loss(t_loss)\n",
        "  test_accuracy(labels, predictions)"
      ],
      "execution_count": 9,
      "outputs": []
    },
    {
      "cell_type": "markdown",
      "metadata": {
        "id": "6cQI3oS97Dj1"
      },
      "source": [
        "### **Model training & test**"
      ]
    },
    {
      "cell_type": "code",
      "metadata": {
        "id": "i-2pkctU_Ci7",
        "colab": {
          "base_uri": "https://localhost:8080/"
        },
        "outputId": "bdf0bba2-663d-4434-90b5-b020360f5b8c"
      },
      "source": [
        "EPOCHS = 5\n",
        "\n",
        "TRLO = []\n",
        "TRA = []\n",
        "TSLO = []\n",
        "TSA = []\n",
        "\n",
        "for epoch in range(EPOCHS):\n",
        "  for images, labels in train_ds: # for the images and labels in our dataset\n",
        "    train_step(images, labels) # training the model\n",
        "\n",
        "  for test_images, test_labels in test_ds: # if the training process is done,\n",
        "    test_step(test_images, test_labels) # testing the model (model prediction)\n",
        "\n",
        "  template = '에포크: {}, 손실: {}, 정확도: {}, 테스트 손실: {}, 테스트 정확도: {}'\n",
        "  print (template.format(epoch+1,\n",
        "                         train_loss.result(),\n",
        "                         train_accuracy.result()*100,\n",
        "                         test_loss.result(),\n",
        "                         test_accuracy.result()*100))\n",
        "  \n",
        "  TRLO.append(train_loss.result())\n",
        "  TRA.append(train_accuracy.result()*100)\n",
        "  TSLO.append(test_loss.result())\n",
        "  TSA.append(test_accuracy.result()*100)\n"
      ],
      "execution_count": 10,
      "outputs": [
        {
          "output_type": "stream",
          "text": [
            "에포크: 1, 손실: 0.13369518518447876, 정확도: 96.0566635131836, 테스트 손실: 0.060782305896282196, 테스트 정확도: 97.94999694824219\n",
            "에포크: 2, 손실: 0.08846688270568848, 정확도: 97.37083435058594, 테스트 손실: 0.05583509802818298, 테스트 정확도: 98.15999603271484\n",
            "에포크: 3, 손실: 0.06629770249128342, 정확도: 98.0111083984375, 테스트 손실: 0.055885981768369675, 테스트 정확도: 98.1933364868164\n",
            "에포크: 4, 손실: 0.05308621749281883, 정확도: 98.39666748046875, 테스트 손실: 0.05614456161856651, 테스트 정확도: 98.24500274658203\n",
            "에포크: 5, 손실: 0.04419223964214325, 정확도: 98.66300201416016, 테스트 손실: 0.056291062384843826, 테스트 정확도: 98.29199981689453\n"
          ],
          "name": "stdout"
        }
      ]
    },
    {
      "cell_type": "markdown",
      "metadata": {
        "id": "9wmaqDd57SBV"
      },
      "source": [
        "### **Visualization of Loss & Accuracy**"
      ]
    },
    {
      "cell_type": "code",
      "metadata": {
        "colab": {
          "base_uri": "https://localhost:8080/",
          "height": 350
        },
        "id": "boEJaZpwygDW",
        "outputId": "a1e12147-f536-498b-dab5-f2d177316ddf"
      },
      "source": [
        "E = list(range(1,EPOCHS+1))\n",
        "\n",
        "plt.figure(figsize = (15,5))\n",
        "\n",
        "plt.subplot(1,2,1)\n",
        "plt.plot(E,TRLO,'--',label = 'train_loss')\n",
        "plt.plot(E,TSLO,label = 'test_loss')\n",
        "plt.xticks(E)\n",
        "plt.xlabel('Epochs')\n",
        "plt.ylabel('Loss')\n",
        "plt.title('Train & Test Loss')\n",
        "plt.legend()\n",
        "\n",
        "plt.subplot(1,2,2)\n",
        "plt.plot(E,TRA,'--',label = 'train_acc')\n",
        "plt.plot(E,TSA,label = 'test_acc')\n",
        "plt.xticks(E)\n",
        "plt.xlabel('Epochs')\n",
        "plt.ylabel('Accuracy')\n",
        "plt.title('Train & Test Accuracy')\n",
        "plt.legend()\n",
        "plt.show()"
      ],
      "execution_count": 11,
      "outputs": [
        {
          "output_type": "display_data",
          "data": {
            "image/png": "[encoded data removed]",
            "text/plain": [
              "<Figure size 1080x360 with 2 Axes>"
            ]
          },
          "metadata": {
            "tags": [],
            "needs_background": "light"
          }
        }
      ]
    },
    {
      "cell_type": "markdown",
      "metadata": {
        "id": "NA6H0anr7ZLT"
      },
      "source": [
        "### **Convert the output to digit form**"
      ]
    },
    {
      "cell_type": "code",
      "metadata": {
        "id": "wZIrz3Fkx4qD"
      },
      "source": [
        "def get_digit(layer_output):\n",
        "  pred = [] # list for containing 'digit'\n",
        "\n",
        "  for i in range(len(layer_output)):\n",
        "    max_val = 0 # the maximum of 10 probabilities\n",
        "    ind = [] # the index of the maximum\n",
        "    for j in range(len(layer_output[i])):\n",
        "\n",
        "      if max_val < layer_output[i,j]: # criterion\n",
        "        max_val = layer_output[i,j] # update\n",
        "        ind.append(j) # save the index of each max_val\n",
        "\n",
        "    pred.append(ind[-1]) # save the final max_val\n",
        "  pred = np.array(pred) # convert the data type\n",
        "  return pred"
      ],
      "execution_count": 12,
      "outputs": []
    },
    {
      "cell_type": "code",
      "metadata": {
        "colab": {
          "base_uri": "https://localhost:8080/"
        },
        "id": "hiCVwsr-sgfs",
        "outputId": "2ffa7d04-fba9-4432-af35-824414ad75d7"
      },
      "source": [
        "output = model.call(test_images).numpy()\n",
        "\n",
        "print('** label: \\n',test_labels.numpy())\n",
        "print('\\n** prediction: \\n',get_digit(output))"
      ],
      "execution_count": 13,
      "outputs": [
        {
          "output_type": "stream",
          "text": [
            "** label: \n",
            " [1 2 3 4 5 6 7 8 9 0 1 2 3 4 5 6]\n",
            "\n",
            "** prediction: \n",
            " [1 2 3 4 5 6 7 8 9 0 1 2 3 4 5 6]\n"
          ],
          "name": "stdout"
        }
      ]
    }
  ]
}